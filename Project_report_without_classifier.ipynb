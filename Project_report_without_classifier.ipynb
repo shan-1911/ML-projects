{
 "cells": [
  {
   "cell_type": "code",
   "execution_count": 1,
   "metadata": {},
   "outputs": [
    {
     "name": "stderr",
     "output_type": "stream",
     "text": [
      "/Users/shanraja/anaconda3/lib/python3.6/site-packages/sklearn/cross_validation.py:41: DeprecationWarning:\n",
      "\n",
      "This module was deprecated in version 0.18 in favor of the model_selection module into which all the refactored classes and functions are moved. Also note that the interface of the new CV iterators are different from that of this module. This module will be removed in 0.20.\n",
      "\n"
     ]
    }
   ],
   "source": [
    "import pandas as pd\n",
    "import numpy as np\n",
    "import plotly\n",
    "from plotly import __version__#\n",
    "%matplotlib inline\n",
    "\n",
    "import matplotlib.pyplot as plt\n",
    "import seaborn as sns\n",
    "from sklearn.linear_model import LinearRegression\n",
    "from sklearn.model_selection import train_test_split\n",
    "from sklearn.metrics import accuracy_score\n",
    "from sklearn import metrics\n",
    "import seaborn as sns\n",
    "from sklearn.cross_validation import train_test_split\n",
    "from sklearn.linear_model import LinearRegression\n",
    "from sklearn.metrics import r2_score\n",
    "from sklearn import metrics\n",
    "from sklearn.ensemble import ExtraTreesRegressor\n",
    "from sklearn.svm import SVR\n",
    "from sklearn import svm\n",
    "    "
   ]
  },
  {
   "cell_type": "code",
   "execution_count": 2,
   "metadata": {
    "collapsed": true
   },
   "outputs": [],
   "source": [
    "train_df = pd.read_csv('train.csv')\n",
    "features_df = pd.read_csv('features.csv')\n",
    "store_df = pd.read_csv('stores.csv')\n",
    "features_df.drop(['MarkDown1','MarkDown2','MarkDown3','MarkDown4','MarkDown5'],axis=1,inplace=True)"
   ]
  },
  {
   "cell_type": "code",
   "execution_count": 3,
   "metadata": {
    "collapsed": true
   },
   "outputs": [],
   "source": [
    "features_df['CPI'].fillna(features_df['CPI'].mean(),inplace=True)\n",
    "features_df['Unemployment'].fillna(features_df['Unemployment'].mean(),inplace=True)"
   ]
  },
  {
   "cell_type": "code",
   "execution_count": 4,
   "metadata": {
    "collapsed": true
   },
   "outputs": [],
   "source": [
    "train_x=pd.DataFrame()\n",
    "train_x=store_df.merge(train_df,on='Store')\n",
    "train_x=train_x.merge(features_df,on=['Date','Store','IsHoliday'])\n",
    "\n",
    "\n",
    "train_x['year'] = [int(x[0:4]) for x in list(train_x['Date'])]\n",
    "train_x['month'] = [int(x[5:7]) for x in list(train_x['Date'])]\n",
    "train_x['day'] = [int(x[8:]) for x in list(train_x['Date'])]\n",
    "train_x.drop(['Date'],axis=1,inplace=True)"
   ]
  },
  {
   "cell_type": "code",
   "execution_count": 5,
   "metadata": {
    "collapsed": true
   },
   "outputs": [],
   "source": [
    "train_x['Type'].replace(['A','B','C'],[0,1,2],inplace=True)"
   ]
  },
  {
   "cell_type": "code",
   "execution_count": 7,
   "metadata": {
    "collapsed": true
   },
   "outputs": [],
   "source": [
    "train_x.head()\n",
    "features=pd.DataFrame()\n",
    "label=pd.DataFrame()\n",
    "label=train_x['Weekly_Sales']\n",
    "\n",
    "features=train_x.drop(['Weekly_Sales','Store','Type','Weekly_Sales','IsHoliday'],axis=1)"
   ]
  },
  {
   "cell_type": "code",
   "execution_count": 8,
   "metadata": {
    "collapsed": true
   },
   "outputs": [],
   "source": [
    "from sklearn.cross_validation import train_test_split\n",
    "X_train, X_test, y_train, y_test = train_test_split(features,label, test_size=0.3, random_state=101)\n",
    "from sklearn.linear_model import LinearRegression\n",
    "from sklearn.metrics import r2_score"
   ]
  },
  {
   "cell_type": "code",
   "execution_count": 9,
   "metadata": {},
   "outputs": [
    {
     "name": "stdout",
     "output_type": "stream",
     "text": [
      "Coefficients: \n",
      " [  9.00791093e-02   1.10943792e+02   1.73912980e+01   1.25372191e+01\n",
      "  -1.69388131e+01  -2.77690959e+02  -2.33090695e+02   1.57729479e+02\n",
      "  -1.85281140e+01]\n"
     ]
    }
   ],
   "source": [
    "lm = LinearRegression()\n",
    "lm.fit(X_train,y_train)\n",
    "# The coefficients\n",
    "print('Coefficients: \\n', lm.coef_)"
   ]
  },
  {
   "cell_type": "code",
   "execution_count": 10,
   "metadata": {},
   "outputs": [
    {
     "name": "stdout",
     "output_type": "stream",
     "text": [
      "Mean Square Error: 479973805.867\n"
     ]
    },
    {
     "data": {
      "image/png": "[encoded data removed]",
      "text/plain": [
       "<Figure size 432x288 with 1 Axes>"
      ]
     },
     "metadata": {},
     "output_type": "display_data"
    }
   ],
   "source": [
    "predictions = lm.predict( X_test)\n",
    "plt.scatter(predictions,y_test)\n",
    "plt.xlabel('Y Test')\n",
    "plt.ylabel('Predicted Y')\n",
    "mse = metrics.mean_squared_error(y_test, predictions)\n",
    "print('Mean Square Error: {:.3f}'.format(mse))"
   ]
  },
  {
   "cell_type": "code",
   "execution_count": 11,
   "metadata": {},
   "outputs": [
    {
     "name": "stdout",
     "output_type": "stream",
     "text": [
      "Root Mean Square Error: 4285.419\n"
     ]
    },
    {
     "data": {
      "image/png": "[encoded data removed]",
      "text/plain": [
       "<Figure size 432x288 with 1 Axes>"
      ]
     },
     "metadata": {},
     "output_type": "display_data"
    }
   ],
   "source": [
    "from sklearn.ensemble import ExtraTreesRegressor\n",
    "clf = ExtraTreesRegressor(n_estimators=200,max_features='auto')\n",
    "clf.fit(X_train,y_train)\n",
    "predict = clf.predict(X_test)\n",
    "plt.scatter(predict,y_test)\n",
    "mse = metrics.mean_squared_error(y_test, predict)\n",
    "print('Root Mean Square Error: {:.3f}'.format(np.sqrt(mse)))"
   ]
  },
  {
   "cell_type": "code",
   "execution_count": 11,
   "metadata": {},
   "outputs": [
    {
     "name": "stdout",
     "output_type": "stream",
     "text": [
      "MAE 1594.86467906\n",
      "MSE 18344016.8385\n",
      "RMSE 4282.99157581\n",
      "variance score 0.964968575853\n"
     ]
    }
   ],
   "source": [
    "from sklearn import metrics\n",
    "print('MAE',metrics.mean_absolute_error(y_test,predict))\n",
    "print('MSE',metrics.mean_squared_error(y_test,predict))\n",
    "print('RMSE',np.sqrt(metrics.mean_squared_error(y_test,predict)))\n",
    "print('variance score',metrics.explained_variance_score(y_test,predict))"
   ]
  },
  {
   "cell_type": "code",
   "execution_count": 12,
   "metadata": {
    "collapsed": true
   },
   "outputs": [],
   "source": [
    "test_df = pd.read_csv('test.csv')"
   ]
  },
  {
   "cell_type": "code",
   "execution_count": 13,
   "metadata": {
    "collapsed": true
   },
   "outputs": [],
   "source": [
    "test_df=test_df.merge(store_df,on=['Store'])\n",
    "test_df.drop(['Type'],axis=1,inplace=True)\n",
    "test_dat=test_df.drop(['Dept','Date','IsHoliday','Store'],axis=1)"
   ]
  },
  {
   "cell_type": "code",
   "execution_count": 14,
   "metadata": {
    "collapsed": true
   },
   "outputs": [],
   "source": [
    "test_df=test_df.merge(features_df,on=['Date','Store','IsHoliday'])\n",
    "test_df['year'] = [int(x[0:4]) for x in list(test_df['Date'])]\n",
    "test_df['month'] = [int(x[5:7]) for x in list(test_df['Date'])]\n",
    "test_df['day'] = [int(x[8:]) for x in list(test_df['Date'])]\n",
    "test_df.drop(['Date'],axis=1,inplace=True)"
   ]
  },
  {
   "cell_type": "code",
   "execution_count": 15,
   "metadata": {
    "collapsed": true
   },
   "outputs": [],
   "source": [
    "# Making of the new dataframe to fit\n",
    "test_fit=pd.DataFrame()\n",
    "test_fit['Size']=test_dat['Size']\n",
    "test_fit['Dept']=test_df['Dept']\n",
    "test_fit['Temperature']=test_df['Temperature']\n",
    "test_fit['Fuel_Price']=test_df['Fuel_Price']\n",
    "test_fit['CPI']=test_df['CPI']\n",
    "test_fit['Unemployment']=test_df['Unemployment']\n",
    "test_fit['year']=test_df['year']\n",
    "test_fit['month']=test_df['month']\n",
    "test_fit['day']=test_df['day']\n",
    "test_fit['IsHoliday']=test_df['IsHoliday']\n",
    "test_fit['Store']=test_df['Store']\n",
    "\n",
    "\n",
    "\n"
   ]
  },
  {
   "cell_type": "code",
   "execution_count": 16,
   "metadata": {
    "collapsed": true
   },
   "outputs": [],
   "source": [
    "\n",
    "test_fit=test_fit.drop(['IsHoliday'],axis=1)\n",
    "\n"
   ]
  },
  {
   "cell_type": "code",
   "execution_count": 17,
   "metadata": {
    "collapsed": true
   },
   "outputs": [],
   "source": [
    "def Reg_test(func_df,test_pred):\n",
    "    features=pd.DataFrame()\n",
    "    label=pd.DataFrame()\n",
    "    label=func_df['Weekly_Sales']\n",
    "    features=func_df.drop(['Weekly_Sales','Store','Type','Weekly_Sales','IsHoliday'],axis=1)\n",
    "    test_pred=test_pred.drop(['Store'],axis=1)\n",
    "    X_train, X_test, y_train, y_test = train_test_split(features,label, test_size=0.1, random_state=101)\n",
    "    \n",
    "    #Extra Tree Regressor\n",
    "    print('************ Extra Tree Regression************')\n",
    "    clf = ExtraTreesRegressor(n_estimators=200,max_features='auto')\n",
    "    clf.fit(X_train,y_train)\n",
    "    predict = clf.predict(test_pred)\n",
    "    return predict\n",
    "    \n",
    "    \n"
   ]
  },
  {
   "cell_type": "code",
   "execution_count": 18,
   "metadata": {},
   "outputs": [
    {
     "name": "stdout",
     "output_type": "stream",
     "text": [
      "************ Extra Tree Regression************\n"
     ]
    }
   ],
   "source": [
    "result=Reg_test(train_x,test_fit)\n"
   ]
  },
  {
   "cell_type": "code",
   "execution_count": 19,
   "metadata": {
    "collapsed": true
   },
   "outputs": [],
   "source": [
    "result_df=pd.DataFrame()\n",
    "result_df=test_fit\n",
    "result_df['Weekly_Sales']=result"
   ]
  },
  {
   "cell_type": "code",
   "execution_count": 20,
   "metadata": {
    "collapsed": true
   },
   "outputs": [],
   "source": [
    "final_df=pd.DataFrame()\n",
    "final_df=result_df\n",
    "final_df.to_csv('final_result_WC.csv')"
   ]
  },
  {
   "cell_type": "code",
   "execution_count": 21,
   "metadata": {},
   "outputs": [
    {
     "data": {
      "text/plain": [
       "0.0016051110531268037"
      ]
     },
     "execution_count": 21,
     "metadata": {},
     "output_type": "execute_result"
    }
   ],
   "source": [
    "from sklearn.metrics import accuracy_score\n",
    "\n",
    "accuracy_score(y_test.astype(int),predict.astype(int))"
   ]
  },
  {
   "cell_type": "code",
   "execution_count": null,
   "metadata": {
    "collapsed": true
   },
   "outputs": [],
   "source": []
  }
 ],
 "metadata": {
  "kernelspec": {
   "display_name": "Python 3",
   "language": "python",
   "name": "python3"
  },
  "language_info": {
   "codemirror_mode": {
    "name": "ipython",
    "version": 3
   },
   "file_extension": ".py",
   "mimetype": "text/x-python",
   "name": "python",
   "nbconvert_exporter": "python",
   "pygments_lexer": "ipython3",
   "version": "3.6.4"
  }
 },
 "nbformat": 4,
 "nbformat_minor": 2
}
